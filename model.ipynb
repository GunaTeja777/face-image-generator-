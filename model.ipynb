{
 "cells": [
  {
   "cell_type": "code",
   "execution_count": null,
   "id": "7f744f23",
   "metadata": {},
   "outputs": [],
   "source": [
    "import torch\n"
   ]
  },
  {
   "cell_type": "code",
   "execution_count": 4,
   "id": "64af9bd5",
   "metadata": {},
   "outputs": [
    {
     "name": "stdout",
     "output_type": "stream",
     "text": [
      "True\n",
      "NVIDIA GeForce RTX 3050 Laptop GPU\n"
     ]
    }
   ],
   "source": [
    "print(torch.cuda.is_available())\n",
    "print(torch.cuda.get_device_name(0))"
   ]
  },
  {
   "cell_type": "code",
   "execution_count": 1,
   "id": "1a24368b",
   "metadata": {},
   "outputs": [
    {
     "name": "stderr",
     "output_type": "stream",
     "text": [
      "c:\\Users\\tejag\\OneDrive\\Desktop\\face\\face-image-generator-\\naathing\\lib\\site-packages\\tqdm\\auto.py:21: TqdmWarning: IProgress not found. Please update jupyter and ipywidgets. See https://ipywidgets.readthedocs.io/en/stable/user_install.html\n",
      "  from .autonotebook import tqdm as notebook_tqdm\n"
     ]
    }
   ],
   "source": [
    "#import libraries\n",
    "import torch,torchvision,pdb,os\n",
    "from torch import nn\n",
    "from  torch.utils.data import DataLoader,Dataset\n",
    "from torchvision import transforms\n",
    "from torchvision.utils import make_grid\n",
    "from PIL import Image\n",
    "import matplotlib.pyplot as plt\n",
    "import numpy as np\n",
    "from tqdm.auto import tqdm\n",
    "import wandb"
   ]
  },
  {
   "cell_type": "code",
   "execution_count": null,
   "id": "ef30719f",
   "metadata": {},
   "outputs": [],
   "source": [
    "def show_from_tensor(tensor,num=25,wandb_log=1,name=\" \"):\n",
    "    img=tensor.detach().cpu()\n",
    "    images=make_grid(img[:num],nrow=5).permute(1,2,0)\n",
    "    if (wandb_log==1 and wandb_active==1):\n",
    "        wandb.log({name:wandb.Image(images.numpy().clip(0,1))})\n",
    "    \n",
    "    plt.figure(figsize=(10,10))\n",
    "    plt.imshow(images.clip(0,1))\n",
    "    plt.show()"
   ]
  },
  {
   "cell_type": "code",
   "execution_count": 3,
   "id": "1c6f5ec4",
   "metadata": {},
   "outputs": [],
   "source": [
    "#defining hyper parameters\n",
    "batch_size=128\n",
    "epoch=1000\n",
    "wandb_active=1\n",
    "critic_cycle=5\n",
    "lr=0.00001\n",
    "z_dim=200\n",
    "mean_gen_loss=[]\n",
    "mean_critic_loss=[]\n",
    "curr_step=0\n",
    "device='cuda'\n",
    "show_step=35\n",
    "save_step=35"
   ]
  },
  {
   "cell_type": "code",
   "execution_count": 4,
   "id": "2cecebd6",
   "metadata": {},
   "outputs": [
    {
     "name": "stderr",
     "output_type": "stream",
     "text": [
      "\u001b[34m\u001b[1mwandb\u001b[0m: \u001b[33mWARNING\u001b[0m If you're specifying your api key in code, ensure this code is not shared publicly.\n",
      "\u001b[34m\u001b[1mwandb\u001b[0m: \u001b[33mWARNING\u001b[0m Consider setting the WANDB_API_KEY environment variable, or running `wandb login` from the command line.\n",
      "\u001b[34m\u001b[1mwandb\u001b[0m: Appending key for api.wandb.ai to your netrc file: C:\\Users\\tejag\\_netrc\n",
      "\u001b[34m\u001b[1mwandb\u001b[0m: Currently logged in as: \u001b[33mgunateja951\u001b[0m (\u001b[33mgunateja951-omni\u001b[0m) to \u001b[32mhttps://api.wandb.ai\u001b[0m. Use \u001b[1m`wandb login --relogin`\u001b[0m to force relogin\n"
     ]
    },
    {
     "data": {
      "text/plain": [
       "True"
      ]
     },
     "execution_count": 4,
     "metadata": {},
     "output_type": "execute_result"
    }
   ],
   "source": [
    "wandb.login(key=\"7b043259eca153894ca3a1f456f024961f4a979d\")"
   ]
  },
  {
   "cell_type": "code",
   "execution_count": 5,
   "id": "26e91894",
   "metadata": {},
   "outputs": [
    {
     "data": {
      "text/html": [
       "creating run (0.0s)"
      ],
      "text/plain": [
       "<IPython.core.display.HTML object>"
      ]
     },
     "metadata": {},
     "output_type": "display_data"
    },
    {
     "data": {
      "text/html": [
       "Tracking run with wandb version 0.21.0"
      ],
      "text/plain": [
       "<IPython.core.display.HTML object>"
      ]
     },
     "metadata": {},
     "output_type": "display_data"
    },
    {
     "data": {
      "text/html": [
       "Run data is saved locally in <code>c:\\Users\\tejag\\OneDrive\\Desktop\\face\\face-image-generator-\\wandb\\run-20250712_185537-6i6372mg</code>"
      ],
      "text/plain": [
       "<IPython.core.display.HTML object>"
      ]
     },
     "metadata": {},
     "output_type": "display_data"
    },
    {
     "data": {
      "text/html": [
       "Syncing run <strong><a href='https://wandb.ai/gunateja951-omni/test/runs/6i6372mg' target=\"_blank\">electric-oath-22</a></strong> to <a href='https://wandb.ai/gunateja951-omni/test' target=\"_blank\">Weights & Biases</a> (<a href='https://wandb.me/developer-guide' target=\"_blank\">docs</a>)<br>"
      ],
      "text/plain": [
       "<IPython.core.display.HTML object>"
      ]
     },
     "metadata": {},
     "output_type": "display_data"
    },
    {
     "data": {
      "text/html": [
       " View project at <a href='https://wandb.ai/gunateja951-omni/test' target=\"_blank\">https://wandb.ai/gunateja951-omni/test</a>"
      ],
      "text/plain": [
       "<IPython.core.display.HTML object>"
      ]
     },
     "metadata": {},
     "output_type": "display_data"
    },
    {
     "data": {
      "text/html": [
       " View run at <a href='https://wandb.ai/gunateja951-omni/test/runs/6i6372mg' target=\"_blank\">https://wandb.ai/gunateja951-omni/test/runs/6i6372mg</a>"
      ],
      "text/plain": [
       "<IPython.core.display.HTML object>"
      ]
     },
     "metadata": {},
     "output_type": "display_data"
    }
   ],
   "source": [
    "experiment_name=\"face-image-generator\"\n",
    "wandb.init(\n",
    "    project=\"test\",\n",
    "    group=experiment_name,\n",
    "    config={\n",
    "        \"batch_size\": batch_size,\n",
    "        \"epoch\": epoch,\n",
    "        \"critic_cycle\": critic_cycle,\n",
    "        \"lr\": lr,\n",
    "        \"z_dim\": z_dim,\n",
    "        \"mean_gen_loss\": mean_gen_loss,\n",
    "        \"mean_critic_loss\": mean_critic_loss,\n",
    "        \"curr_step\": curr_step,\n",
    "        \"device\": device,\n",
    "        \"show_step\": show_step,\n",
    "        \"save_step\": save_step\n",
    "    }\n",
    ")\n",
    "config= wandb.config"
   ]
  },
  {
   "cell_type": "code",
   "execution_count": null,
   "id": "2b05dc70",
   "metadata": {},
   "outputs": [],
   "source": [
    "class Generator(nn.Module):\n",
    "    def __init__(self,z_dim=200,i_dim=16):\n",
    "        super(Generator,self).__init__()\n",
    "        self.z_dim=z_dim\n",
    "        self.i_dim=i_dim\n",
    "        self.gen=nn.Sequential(\n",
    "            nn.ConvTranspose2d(z_dim,i_dim*16,4,1,0),\n",
    "            nn.BatchNorm2d(i_dim*16),\n",
    "            nn.ReLU(inplace=True),\n",
    "            \n",
    "            nn.ConvTranspose2d(i_dim*16,i_dim*8,4,2,1),\n",
    "            nn.BatchNorm2d(i_dim*8),\n",
    "            nn.ReLU(inplace=True),\n",
    "            \n",
    "            nn.ConvTranspose2d(i_dim*8,i_dim*4,4,2,1),\n",
    "            nn.BatchNorm2d(i_dim*4),\n",
    "            nn.ReLU(inplace=True),\n",
    "            \n",
    "            nn.ConvTranspose2d(i_dim*4,i_dim*2,4,2,1),\n",
    "            nn.BatchNorm2d(i_dim*2),\n",
    "            nn.ReLU(inplace=True),\n",
    "            \n",
    "            nn.ConvTranspose2d(i_dim*2,3,4,2,1),\n",
    "            nn.Tanh()\n",
    "        )\n",
    "    \n",
    "    def forward(self,noise):\n",
    "        x=noise.view(len(noise),self.z_dim,1,1)\n",
    "        return self.gen(x)\n",
    "        \n",
    "def get_noise(n_samples,z_dim):\n",
    "    return torch.randn(n_samples,z_dim).to(device)"
   ]
  },
  {
   "cell_type": "code",
   "execution_count": null,
   "id": "71f64a1f",
   "metadata": {},
   "outputs": [],
   "source": [
    "class Critic(nn.Module):\n",
    "    def __init__(self,i_dim=16):\n",
    "        super(Critic,self).__init__()\n",
    "        self.i_dim=i_dim\n",
    "        self.critic=nn.Sequential(\n",
    "            nn.Conv2d(3,i_dim*2,4,2,1),\n",
    "            nn.InstanceNorm2d(i_dim*2),\n",
    "            nn.LeakyReLU(0.2),\n",
    "            \n",
    "            nn.Conv2d(i_dim*2,i_dim*4,4,2,1),\n",
    "            nn.InstanceNorm2d(i_dim*4),\n",
    "            nn.LeakyReLU(0.2),\n",
    "            \n",
    "            nn.Conv2d(i_dim*4,i_dim*8,4,2,1),\n",
    "            nn.InstanceNorm2d(i_dim*8),\n",
    "            nn.LeakyReLU(0.2),\n",
    "            \n",
    "            nn.Conv2d(i_dim*8,i_dim*16,4,2,1),\n",
    "            nn.InstanceNorm2d(i_dim*16),\n",
    "            nn.LeakyReLU(0.2),\n",
    "            \n",
    "            nn.Conv2d(i_dim*16,1,4,1,0),\n",
    "        )\n",
    "    \n",
    "    def forward(self,x):\n",
    "        x=self.critic(x)\n",
    "        return x.view(len(x),-1)"
   ]
  },
  {
   "cell_type": "code",
   "execution_count": 9,
   "id": "6f3da1d8",
   "metadata": {},
   "outputs": [
    {
     "name": "stderr",
     "output_type": "stream",
     "text": [
      "Downloading...\n",
      "From (original): https://drive.google.com/uc?id=1rnrH6dDlgj8aRRxgGcznCGKlXAUiUAC5\n",
      "From (redirected): https://drive.google.com/uc?id=1rnrH6dDlgj8aRRxgGcznCGKlXAUiUAC5&confirm=t&uuid=eee82fa8-30db-47b4-bb0a-abdca3b00f44\n",
      "To: c:\\Users\\tejag\\OneDrive\\Desktop\\face\\face-image-generator-\\data\\img_align_celeba.7z\n",
      "100%|██████████| 1.44G/1.44G [07:35<00:00, 3.17MB/s]\n"
     ]
    },
    {
     "data": {
      "text/plain": [
       "'data/img_align_celeba.7z'"
      ]
     },
     "execution_count": 9,
     "metadata": {},
     "output_type": "execute_result"
    }
   ],
   "source": [
    "import gdown\n",
    "import os\n",
    "\n",
    "file_id = '1rnrH6dDlgj8aRRxgGcznCGKlXAUiUAC5'\n",
    "output_path = 'data/img_align_celeba.7z'\n",
    "\n",
    "os.makedirs('data', exist_ok=True)\n",
    "\n",
    "# Download your private Drive file\n",
    "gdown.download(f'https://drive.google.com/uc?id={file_id}', output_path, quiet=False)\n"
   ]
  },
  {
   "cell_type": "code",
   "execution_count": null,
   "id": "a37843ab",
   "metadata": {},
   "outputs": [],
   "source": [
    "import subprocess\n",
    "import time\n",
    "\n",
    "archive_path = r\"C:\\Users\\tejag\\OneDrive\\Desktop\\face\\face-image-generator-\\data\\img_align_celeba.7z\"\n",
    "output_path = r\"C:\\Users\\tejag\\OneDrive\\Desktop\\face\\face-image-generator-\\data\\img_align_celeba\"\n",
    "\n",
    "start = time.time()\n",
    "\n",
    "subprocess.run([\n",
    "    r\"C:\\Program Files\\7-Zip\\7z.exe\",\n",
    "    'x',\n",
    "    archive_path,\n",
    "    f'-o{output_path}',\n",
    "    '-mmt=on'\n",
    "])\n",
    "\n",
    "print(f\"Extraction completed in {time.time() - start:.2f} seconds\")\n"
   ]
  },
  {
   "cell_type": "code",
   "execution_count": null,
   "id": "b391e8ba",
   "metadata": {},
   "outputs": [],
   "source": []
  }
 ],
 "metadata": {
  "kernelspec": {
   "display_name": "naathing",
   "language": "python",
   "name": "python3"
  },
  "language_info": {
   "codemirror_mode": {
    "name": "ipython",
    "version": 3
   },
   "file_extension": ".py",
   "mimetype": "text/x-python",
   "name": "python",
   "nbconvert_exporter": "python",
   "pygments_lexer": "ipython3",
   "version": "3.9.13"
  }
 },
 "nbformat": 4,
 "nbformat_minor": 5
}
