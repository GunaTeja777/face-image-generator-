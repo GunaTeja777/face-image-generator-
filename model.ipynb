{
 "cells": [
  {
   "cell_type": "code",
   "execution_count": null,
   "id": "7f744f23",
   "metadata": {},
   "outputs": [],
   "source": [
    "import torch\n"
   ]
  },
  {
   "cell_type": "code",
   "execution_count": 4,
   "id": "64af9bd5",
   "metadata": {},
   "outputs": [
    {
     "name": "stdout",
     "output_type": "stream",
     "text": [
      "True\n",
      "NVIDIA GeForce RTX 3050 Laptop GPU\n"
     ]
    }
   ],
   "source": [
    "print(torch.cuda.is_available())\n",
    "print(torch.cuda.get_device_name(0))"
   ]
  },
  {
   "cell_type": "code",
   "execution_count": 10,
   "id": "1a24368b",
   "metadata": {},
   "outputs": [],
   "source": [
    "#import libraries\n",
    "import torch,torchvision,pdb,os\n",
    "from torch import nn\n",
    "from  torch.utils.data import DataLoader,Dataset\n",
    "from torchvision import transforms\n",
    "from torchvision.utils import make_grid\n",
    "from PIL import Image\n",
    "import matplotlib.pyplot as plt\n",
    "import numpy as np\n",
    "from tqdm.auto import tqdm\n",
    "import wandb"
   ]
  },
  {
   "cell_type": "code",
   "execution_count": 12,
   "id": "ef30719f",
   "metadata": {},
   "outputs": [],
   "source": [
    "def show_from_tensor(tensor,num=25,wandb_log=1,name=\" \"):\n",
    "    img=tensor.detach().cpu()\n",
    "    images=make_grid(img[:num],nrow=5).permute(1,2,0)\n",
    "    if (wandb_log==1 and wandb_active==1):\n",
    "        wandb.log({name:wandb.Image(images).numpuy().clip(0,1)})\n",
    "    \n",
    "    plt.figure(figsize=(10,10))\n",
    "    plt.imshow(images.clip(0,1))\n",
    "    plt.show()"
   ]
  },
  {
   "cell_type": "code",
   "execution_count": 13,
   "id": "1c6f5ec4",
   "metadata": {},
   "outputs": [],
   "source": [
    "#defining hyper parameters\n",
    "batch_size=128\n",
    "epoch=1000\n",
    "wandb_active=1\n",
    "critic_cycle=5\n",
    "lr=0.00001\n",
    "z_dim=200\n",
    "mean_gen_loss=[]\n",
    "mean_critic_loss=[]\n",
    "curr_step=0\n",
    "device='cuda'\n",
    "show_step=35\n",
    "save_step=35"
   ]
  },
  {
   "cell_type": "code",
   "execution_count": 14,
   "id": "2cecebd6",
   "metadata": {},
   "outputs": [
    {
     "name": "stderr",
     "output_type": "stream",
     "text": [
      "\u001b[34m\u001b[1mwandb\u001b[0m: \u001b[33mWARNING\u001b[0m If you're specifying your api key in code, ensure this code is not shared publicly.\n",
      "\u001b[34m\u001b[1mwandb\u001b[0m: \u001b[33mWARNING\u001b[0m Consider setting the WANDB_API_KEY environment variable, or running `wandb login` from the command line.\n",
      "\u001b[34m\u001b[1mwandb\u001b[0m: Appending key for api.wandb.ai to your netrc file: C:\\Users\\tejag\\_netrc\n",
      "\u001b[34m\u001b[1mwandb\u001b[0m: Currently logged in as: \u001b[33mgunateja951\u001b[0m (\u001b[33mgunateja951-omni\u001b[0m) to \u001b[32mhttps://api.wandb.ai\u001b[0m. Use \u001b[1m`wandb login --relogin`\u001b[0m to force relogin\n"
     ]
    },
    {
     "data": {
      "text/plain": [
       "True"
      ]
     },
     "execution_count": 14,
     "metadata": {},
     "output_type": "execute_result"
    }
   ],
   "source": [
    "wandb.login(key=\"7b043259eca153894ca3a1f456f024961f4a979d\")"
   ]
  },
  {
   "cell_type": "code",
   "execution_count": 15,
   "id": "9700773b",
   "metadata": {},
   "outputs": [
    {
     "data": {
      "text/html": [
       "creating run (0.0s)"
      ],
      "text/plain": [
       "<IPython.core.display.HTML object>"
      ]
     },
     "metadata": {},
     "output_type": "display_data"
    },
    {
     "data": {
      "text/html": [
       "Tracking run with wandb version 0.21.0"
      ],
      "text/plain": [
       "<IPython.core.display.HTML object>"
      ]
     },
     "metadata": {},
     "output_type": "display_data"
    },
    {
     "data": {
      "text/html": [
       "Run data is saved locally in <code>c:\\Users\\tejag\\OneDrive\\Desktop\\face\\face-image-generator-\\wandb\\run-20250712_174219-etzuuf9m</code>"
      ],
      "text/plain": [
       "<IPython.core.display.HTML object>"
      ]
     },
     "metadata": {},
     "output_type": "display_data"
    },
    {
     "data": {
      "text/html": [
       "Syncing run <strong><a href='https://wandb.ai/gunateja951-omni/test/runs/etzuuf9m' target=\"_blank\">devoted-darkness-19</a></strong> to <a href='https://wandb.ai/gunateja951-omni/test' target=\"_blank\">Weights & Biases</a> (<a href='https://wandb.me/developer-guide' target=\"_blank\">docs</a>)<br>"
      ],
      "text/plain": [
       "<IPython.core.display.HTML object>"
      ]
     },
     "metadata": {},
     "output_type": "display_data"
    },
    {
     "data": {
      "text/html": [
       " View project at <a href='https://wandb.ai/gunateja951-omni/test' target=\"_blank\">https://wandb.ai/gunateja951-omni/test</a>"
      ],
      "text/plain": [
       "<IPython.core.display.HTML object>"
      ]
     },
     "metadata": {},
     "output_type": "display_data"
    },
    {
     "data": {
      "text/html": [
       " View run at <a href='https://wandb.ai/gunateja951-omni/test/runs/etzuuf9m' target=\"_blank\">https://wandb.ai/gunateja951-omni/test/runs/etzuuf9m</a>"
      ],
      "text/plain": [
       "<IPython.core.display.HTML object>"
      ]
     },
     "metadata": {},
     "output_type": "display_data"
    },
    {
     "data": {
      "text/html": [
       "<button onClick=\"this.nextSibling.style.display='block';this.style.display='none';\">Display W&B run</button><iframe src='https://wandb.ai/gunateja951-omni/test/runs/etzuuf9m?jupyter=true' style='border:none;width:100%;height:420px;display:none;'></iframe>"
      ],
      "text/plain": [
       "<wandb.sdk.wandb_run.Run at 0x1dc098c6940>"
      ]
     },
     "execution_count": 15,
     "metadata": {},
     "output_type": "execute_result"
    }
   ],
   "source": [
    "experiment_name=\"face-image-generator\"\n",
    "wandb.init(\n",
    "    project=\"test\",\n",
    "    group=experiment_name,\n",
    "    config={\n",
    "        \"batch_size\": batch_size,\n",
    "        \"epoch\": epoch,\n",
    "        \"critic_cycle\": critic_cycle,\n",
    "        \"lr\": lr,\n",
    "        \"z_dim\": z_dim,\n",
    "        \"mean_gen_loss\": mean_gen_loss,\n",
    "        \"mean_critic_loss\": mean_critic_loss,\n",
    "        \"curr_step\": curr_step,\n",
    "        \"device\": device,\n",
    "        \"show_step\": show_step,\n",
    "        \"save_step\": save_step\n",
    "    }\n",
    ")"
   ]
  },
  {
   "cell_type": "code",
   "execution_count": null,
   "id": "0f68a907",
   "metadata": {},
   "outputs": [],
   "source": []
  }
 ],
 "metadata": {
  "kernelspec": {
   "display_name": "naathing",
   "language": "python",
   "name": "python3"
  },
  "language_info": {
   "codemirror_mode": {
    "name": "ipython",
    "version": 3
   },
   "file_extension": ".py",
   "mimetype": "text/x-python",
   "name": "python",
   "nbconvert_exporter": "python",
   "pygments_lexer": "ipython3",
   "version": "3.9.13"
  }
 },
 "nbformat": 4,
 "nbformat_minor": 5
}
